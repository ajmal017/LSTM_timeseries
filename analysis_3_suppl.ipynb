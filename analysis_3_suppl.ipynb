{
 "cells": [
  {
   "cell_type": "markdown",
   "metadata": {},
   "source": [
    "## Supplemental analysis"
   ]
  },
  {
   "cell_type": "code",
   "execution_count": 28,
   "metadata": {},
   "outputs": [],
   "source": [
    "import pandas as pd\n",
    "import numpy as np\n",
    "import matplotlib.pyplot as plt\n",
    "import utils\n",
    "from sklearn.metrics import mean_squared_error\n",
    "from math import sqrt\n",
    "from sklearn.metrics import r2_score"
   ]
  },
  {
   "cell_type": "code",
   "execution_count": 2,
   "metadata": {},
   "outputs": [],
   "source": [
    "df_counts = utils.create_dataset()"
   ]
  },
  {
   "cell_type": "code",
   "execution_count": 3,
   "metadata": {},
   "outputs": [
    {
     "name": "stdout",
     "output_type": "stream",
     "text": [
      "(9788,)\n"
     ]
    },
    {
     "data": {
      "image/png": "[encoded data removed]",
      "text/plain": [
       "<Figure size 432x288 with 1 Axes>"
      ]
     },
     "metadata": {},
     "output_type": "display_data"
    }
   ],
   "source": [
    "print(df_counts.shape)\n",
    "ax = df_counts.plot()\n",
    "plt.show()"
   ]
  },
  {
   "cell_type": "code",
   "execution_count": 19,
   "metadata": {},
   "outputs": [
    {
     "name": "stdout",
     "output_type": "stream",
     "text": [
      "   t-1 t+1\n",
      "0  NaN   2\n",
      "1    2   6\n",
      "2    6   9\n",
      "3    9   7\n",
      "4    7   1\n"
     ]
    }
   ],
   "source": [
    "# Create lagged dataset\n",
    "values = pd.DataFrame(df_counts.values)\n",
    "dataframe = pd.concat([values.shift(1), values], axis=1)\n",
    "dataframe.columns = ['t-1', 't+1']\n",
    "print(dataframe.head(5))"
   ]
  },
  {
   "cell_type": "code",
   "execution_count": 20,
   "metadata": {},
   "outputs": [],
   "source": [
    "# split into train and test sets\n",
    "X = dataframe.values\n",
    "train_size = int(len(X) * 0.66)\n",
    "train, test = X[1:train_size], X[train_size:]\n",
    "train_X, train_y = train[:,0], train[:,1]\n",
    "test_X, test_y = test[:,0], test[:,1]"
   ]
  },
  {
   "cell_type": "code",
   "execution_count": 21,
   "metadata": {},
   "outputs": [],
   "source": [
    "# persistence model\n",
    "def model_persistence(x):\n",
    "\treturn x"
   ]
  },
  {
   "cell_type": "code",
   "execution_count": 30,
   "metadata": {},
   "outputs": [
    {
     "name": "stdout",
     "output_type": "stream",
     "text": [
      "Test MSE: 5.252\n",
      "R2 score: 0.699\n"
     ]
    }
   ],
   "source": [
    "predictions = list()\n",
    "for x in test_X:\n",
    "\tyhat = model_persistence(x)\n",
    "\tpredictions.append(yhat)\n",
    "RMSE = sqrt(mean_squared_error(test_y, predictions))\n",
    "r2 = r2_score(test_y, predictions)\n",
    "print('Test MSE: %.3f' % RMSE)\n",
    "print('R2 score: %.3f' % r2)"
   ]
  },
  {
   "cell_type": "markdown",
   "metadata": {},
   "source": [
    "### Summary\n",
    "\n",
    "A baseline model for the ETH request count data was created, using the Persistence method (using the value at time t for the prediction/forecast at time t+1). For simpicity, the baseline model was used to predict the t+1 time forecast (only)\n",
    "\n",
    "The baseline model has t+1 MSE of 5.25 and R2 score of 0.699\n",
    "\n",
    "The LSTM model from part 2 has t+1 RMSE of 5.14 and R2 score of 0.708. Note, in this case the model was run with 100 epochs\n",
    "\n",
    "The model has since been run with 25 epochs, which improve the result to t+1 RMSE of 4.98 and R2 score of 0.733. Perhaps with 100 epochs there was overfitting of the data\n",
    "\n",
    "-  Note, the R2 scores above from the LSTM model are aggregate of t+1, t+2, t+3, t+4 forecasts. R2 scores of t+1 only forecasts will be slightly higher, but will not materially affect the overall results\n",
    "\n",
    "The LSTM model performs slightly better than the baseline model. Since the model used data that was differenced, the effects of autocorrelation have been removed and so the improvement of this model over that of the baseline can be attributed to the model's ability to detect patterns from the historical data (as well as perhaps additional elements of randomness due to  the stochastic nature of the neural net model)\n",
    "\n",
    "Perhaps more tweaking of this model could improve results, and this would definitely be worthy of further time/effort, however there is a lot of existing research and results showing the effectiveness of this type of LSTM model on time series data as compared to other models such as ARIMA. The fact that this model only barely outperforms the baseline suggests the ETH request count dataset to have a high degree of stochasticity and thus has fundamental limits to how effective predictive forecasts on it can be"
   ]
  },
  {
   "cell_type": "code",
   "execution_count": null,
   "metadata": {},
   "outputs": [],
   "source": []
  }
 ],
 "metadata": {
  "kernelspec": {
   "display_name": "Python 2",
   "language": "python",
   "name": "python2"
  },
  "language_info": {
   "codemirror_mode": {
    "name": "ipython",
    "version": 2
   },
   "file_extension": ".py",
   "mimetype": "text/x-python",
   "name": "python",
   "nbconvert_exporter": "python",
   "pygments_lexer": "ipython2",
   "version": "2.7.12"
  }
 },
 "nbformat": 4,
 "nbformat_minor": 2
}
