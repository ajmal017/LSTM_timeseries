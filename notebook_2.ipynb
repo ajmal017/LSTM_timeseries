{
 "cells": [
  {
   "cell_type": "markdown",
   "metadata": {},
   "source": [
    "## Analysis part 2"
   ]
  },
  {
   "cell_type": "code",
   "execution_count": 35,
   "metadata": {},
   "outputs": [],
   "source": [
    "from config import CONFIG\n",
    "import pandas as pd\n",
    "import numpy as np\n",
    "import matplotlib.pyplot as plt\n",
    "from utils import series_to_supervised\n",
    "from sklearn.preprocessing import MinMaxScaler"
   ]
  },
  {
   "cell_type": "code",
   "execution_count": 2,
   "metadata": {},
   "outputs": [],
   "source": [
    "df = pd.read_json(\"eth-donation-requests.json\")"
   ]
  },
  {
   "cell_type": "code",
   "execution_count": 3,
   "metadata": {},
   "outputs": [],
   "source": [
    "df['tagged_begging'] = pd.to_datetime(df['tagged_begging'])"
   ]
  },
  {
   "cell_type": "code",
   "execution_count": 4,
   "metadata": {},
   "outputs": [],
   "source": [
    "df = df.set_index(pd.DatetimeIndex(df['tagged_begging']))"
   ]
  },
  {
   "cell_type": "code",
   "execution_count": 5,
   "metadata": {},
   "outputs": [],
   "source": [
    "df = df.groupby(pd.Grouper(key='tagged_begging', freq='15Min', base=0, label='right'))"
   ]
  },
  {
   "cell_type": "code",
   "execution_count": 6,
   "metadata": {},
   "outputs": [],
   "source": [
    "df = df.describe()"
   ]
  },
  {
   "cell_type": "code",
   "execution_count": 7,
   "metadata": {},
   "outputs": [],
   "source": [
    "df_count = df.unstack()['tagged_begging']['count']"
   ]
  },
  {
   "cell_type": "code",
   "execution_count": 8,
   "metadata": {},
   "outputs": [
    {
     "data": {
      "text/plain": [
       "numpy.ndarray"
      ]
     },
     "execution_count": 8,
     "metadata": {},
     "output_type": "execute_result"
    }
   ],
   "source": [
    "values = df_count.values\n",
    "#df_count.head()\n",
    "type(values)"
   ]
  },
  {
   "cell_type": "code",
   "execution_count": 9,
   "metadata": {},
   "outputs": [
    {
     "data": {
      "text/plain": [
       "(9788,)"
      ]
     },
     "execution_count": 9,
     "metadata": {},
     "output_type": "execute_result"
    }
   ],
   "source": [
    "values.shape"
   ]
  },
  {
   "cell_type": "code",
   "execution_count": null,
   "metadata": {},
   "outputs": [],
   "source": [
    "#ax = df_count.plot()\n",
    "#plt.show()"
   ]
  },
  {
   "cell_type": "code",
   "execution_count": 10,
   "metadata": {},
   "outputs": [
    {
     "data": {
      "text/plain": [
       "(96, 1, 4)"
      ]
     },
     "execution_count": 10,
     "metadata": {},
     "output_type": "execute_result"
    }
   ],
   "source": [
    "# parameters to prepare the dataset for learning # param \n",
    "n_lag = 96\n",
    "n_out = 4\n",
    "n_features = 1\n",
    "n_lag,n_features,n_out"
   ]
  },
  {
   "cell_type": "code",
   "execution_count": 11,
   "metadata": {},
   "outputs": [
    {
     "data": {
      "text/plain": [
       "(9788,)"
      ]
     },
     "execution_count": 11,
     "metadata": {},
     "output_type": "execute_result"
    }
   ],
   "source": [
    "values.shape"
   ]
  },
  {
   "cell_type": "code",
   "execution_count": 12,
   "metadata": {},
   "outputs": [],
   "source": [
    "values = values.reshape(values.shape[0], 1)\n",
    "#values = values.reshape(-1, 1)"
   ]
  },
  {
   "cell_type": "code",
   "execution_count": 13,
   "metadata": {},
   "outputs": [
    {
     "data": {
      "text/plain": [
       "(9788, 1)"
      ]
     },
     "execution_count": 13,
     "metadata": {},
     "output_type": "execute_result"
    }
   ],
   "source": [
    "values.shape"
   ]
  },
  {
   "cell_type": "code",
   "execution_count": 14,
   "metadata": {},
   "outputs": [
    {
     "name": "stderr",
     "output_type": "stream",
     "text": [
      "/usr/local/lib/python2.7/dist-packages/sklearn/utils/validation.py:475: DataConversionWarning: Data with input dtype object was converted to float64 by MinMaxScaler.\n",
      "  warnings.warn(msg, DataConversionWarning)\n"
     ]
    }
   ],
   "source": [
    "# scale dataset\n",
    "scaler = MinMaxScaler(feature_range=(0, 1))\n",
    "scaled = scaler.fit_transform(values)"
   ]
  },
  {
   "cell_type": "code",
   "execution_count": 41,
   "metadata": {},
   "outputs": [
    {
     "data": {
      "text/html": [
       "<div>\n",
       "<style scoped>\n",
       "    .dataframe tbody tr th:only-of-type {\n",
       "        vertical-align: middle;\n",
       "    }\n",
       "\n",
       "    .dataframe tbody tr th {\n",
       "        vertical-align: top;\n",
       "    }\n",
       "\n",
       "    .dataframe thead th {\n",
       "        text-align: right;\n",
       "    }\n",
       "</style>\n",
       "<table border=\"1\" class=\"dataframe\">\n",
       "  <thead>\n",
       "    <tr style=\"text-align: right;\">\n",
       "      <th></th>\n",
       "      <th>var1(t-96)</th>\n",
       "      <th>var1(t-95)</th>\n",
       "      <th>var1(t-94)</th>\n",
       "      <th>var1(t-93)</th>\n",
       "      <th>var1(t-92)</th>\n",
       "      <th>var1(t-91)</th>\n",
       "      <th>var1(t-90)</th>\n",
       "      <th>var1(t-89)</th>\n",
       "      <th>var1(t-88)</th>\n",
       "      <th>var1(t-87)</th>\n",
       "      <th>...</th>\n",
       "      <th>var1(t-6)</th>\n",
       "      <th>var1(t-5)</th>\n",
       "      <th>var1(t-4)</th>\n",
       "      <th>var1(t-3)</th>\n",
       "      <th>var1(t-2)</th>\n",
       "      <th>var1(t-1)</th>\n",
       "      <th>var1(t)</th>\n",
       "      <th>var1(t+1)</th>\n",
       "      <th>var1(t+2)</th>\n",
       "      <th>var1(t+3)</th>\n",
       "    </tr>\n",
       "  </thead>\n",
       "  <tbody>\n",
       "    <tr>\n",
       "      <th>96</th>\n",
       "      <td>0.027397</td>\n",
       "      <td>0.082192</td>\n",
       "      <td>0.123288</td>\n",
       "      <td>0.095890</td>\n",
       "      <td>0.013699</td>\n",
       "      <td>0.054795</td>\n",
       "      <td>0.000000</td>\n",
       "      <td>0.054795</td>\n",
       "      <td>0.123288</td>\n",
       "      <td>0.109589</td>\n",
       "      <td>...</td>\n",
       "      <td>0.041096</td>\n",
       "      <td>0.054795</td>\n",
       "      <td>0.109589</td>\n",
       "      <td>0.068493</td>\n",
       "      <td>0.068493</td>\n",
       "      <td>0.082192</td>\n",
       "      <td>0.095890</td>\n",
       "      <td>0.123288</td>\n",
       "      <td>0.178082</td>\n",
       "      <td>0.178082</td>\n",
       "    </tr>\n",
       "    <tr>\n",
       "      <th>97</th>\n",
       "      <td>0.082192</td>\n",
       "      <td>0.123288</td>\n",
       "      <td>0.095890</td>\n",
       "      <td>0.013699</td>\n",
       "      <td>0.054795</td>\n",
       "      <td>0.000000</td>\n",
       "      <td>0.054795</td>\n",
       "      <td>0.123288</td>\n",
       "      <td>0.109589</td>\n",
       "      <td>0.013699</td>\n",
       "      <td>...</td>\n",
       "      <td>0.054795</td>\n",
       "      <td>0.109589</td>\n",
       "      <td>0.068493</td>\n",
       "      <td>0.068493</td>\n",
       "      <td>0.082192</td>\n",
       "      <td>0.095890</td>\n",
       "      <td>0.123288</td>\n",
       "      <td>0.178082</td>\n",
       "      <td>0.178082</td>\n",
       "      <td>0.082192</td>\n",
       "    </tr>\n",
       "    <tr>\n",
       "      <th>98</th>\n",
       "      <td>0.123288</td>\n",
       "      <td>0.095890</td>\n",
       "      <td>0.013699</td>\n",
       "      <td>0.054795</td>\n",
       "      <td>0.000000</td>\n",
       "      <td>0.054795</td>\n",
       "      <td>0.123288</td>\n",
       "      <td>0.109589</td>\n",
       "      <td>0.013699</td>\n",
       "      <td>0.041096</td>\n",
       "      <td>...</td>\n",
       "      <td>0.109589</td>\n",
       "      <td>0.068493</td>\n",
       "      <td>0.068493</td>\n",
       "      <td>0.082192</td>\n",
       "      <td>0.095890</td>\n",
       "      <td>0.123288</td>\n",
       "      <td>0.178082</td>\n",
       "      <td>0.178082</td>\n",
       "      <td>0.082192</td>\n",
       "      <td>0.136986</td>\n",
       "    </tr>\n",
       "    <tr>\n",
       "      <th>99</th>\n",
       "      <td>0.095890</td>\n",
       "      <td>0.013699</td>\n",
       "      <td>0.054795</td>\n",
       "      <td>0.000000</td>\n",
       "      <td>0.054795</td>\n",
       "      <td>0.123288</td>\n",
       "      <td>0.109589</td>\n",
       "      <td>0.013699</td>\n",
       "      <td>0.041096</td>\n",
       "      <td>0.219178</td>\n",
       "      <td>...</td>\n",
       "      <td>0.068493</td>\n",
       "      <td>0.068493</td>\n",
       "      <td>0.082192</td>\n",
       "      <td>0.095890</td>\n",
       "      <td>0.123288</td>\n",
       "      <td>0.178082</td>\n",
       "      <td>0.178082</td>\n",
       "      <td>0.082192</td>\n",
       "      <td>0.136986</td>\n",
       "      <td>0.150685</td>\n",
       "    </tr>\n",
       "    <tr>\n",
       "      <th>100</th>\n",
       "      <td>0.013699</td>\n",
       "      <td>0.054795</td>\n",
       "      <td>0.000000</td>\n",
       "      <td>0.054795</td>\n",
       "      <td>0.123288</td>\n",
       "      <td>0.109589</td>\n",
       "      <td>0.013699</td>\n",
       "      <td>0.041096</td>\n",
       "      <td>0.219178</td>\n",
       "      <td>0.178082</td>\n",
       "      <td>...</td>\n",
       "      <td>0.068493</td>\n",
       "      <td>0.082192</td>\n",
       "      <td>0.095890</td>\n",
       "      <td>0.123288</td>\n",
       "      <td>0.178082</td>\n",
       "      <td>0.178082</td>\n",
       "      <td>0.082192</td>\n",
       "      <td>0.136986</td>\n",
       "      <td>0.150685</td>\n",
       "      <td>0.191781</td>\n",
       "    </tr>\n",
       "  </tbody>\n",
       "</table>\n",
       "<p>5 rows × 100 columns</p>\n",
       "</div>"
      ],
      "text/plain": [
       "     var1(t-96)  var1(t-95)  var1(t-94)  var1(t-93)  var1(t-92)  var1(t-91)  \\\n",
       "96     0.027397    0.082192    0.123288    0.095890    0.013699    0.054795   \n",
       "97     0.082192    0.123288    0.095890    0.013699    0.054795    0.000000   \n",
       "98     0.123288    0.095890    0.013699    0.054795    0.000000    0.054795   \n",
       "99     0.095890    0.013699    0.054795    0.000000    0.054795    0.123288   \n",
       "100    0.013699    0.054795    0.000000    0.054795    0.123288    0.109589   \n",
       "\n",
       "     var1(t-90)  var1(t-89)  var1(t-88)  var1(t-87)    ...      var1(t-6)  \\\n",
       "96     0.000000    0.054795    0.123288    0.109589    ...       0.041096   \n",
       "97     0.054795    0.123288    0.109589    0.013699    ...       0.054795   \n",
       "98     0.123288    0.109589    0.013699    0.041096    ...       0.109589   \n",
       "99     0.109589    0.013699    0.041096    0.219178    ...       0.068493   \n",
       "100    0.013699    0.041096    0.219178    0.178082    ...       0.068493   \n",
       "\n",
       "     var1(t-5)  var1(t-4)  var1(t-3)  var1(t-2)  var1(t-1)   var1(t)  \\\n",
       "96    0.054795   0.109589   0.068493   0.068493   0.082192  0.095890   \n",
       "97    0.109589   0.068493   0.068493   0.082192   0.095890  0.123288   \n",
       "98    0.068493   0.068493   0.082192   0.095890   0.123288  0.178082   \n",
       "99    0.068493   0.082192   0.095890   0.123288   0.178082  0.178082   \n",
       "100   0.082192   0.095890   0.123288   0.178082   0.178082  0.082192   \n",
       "\n",
       "     var1(t+1)  var1(t+2)  var1(t+3)  \n",
       "96    0.123288   0.178082   0.178082  \n",
       "97    0.178082   0.178082   0.082192  \n",
       "98    0.178082   0.082192   0.136986  \n",
       "99    0.082192   0.136986   0.150685  \n",
       "100   0.136986   0.150685   0.191781  \n",
       "\n",
       "[5 rows x 100 columns]"
      ]
     },
     "execution_count": 41,
     "metadata": {},
     "output_type": "execute_result"
    }
   ],
   "source": [
    "# frame as supervised learning\n",
    "reframed = series_to_supervised(scaled, n_lag, n_out)\n",
    "reframed.head()"
   ]
  },
  {
   "cell_type": "code",
   "execution_count": 16,
   "metadata": {},
   "outputs": [],
   "source": [
    "reframed_values = reframed.values\n",
    "# split into train and test sets\n",
    "training_size = int(0.8* reframed_values.shape[0])\n",
    "train = reframed_values[:training_size, :]\n",
    "test = reframed_values[training_size:, :]"
   ]
  },
  {
   "cell_type": "code",
   "execution_count": 17,
   "metadata": {},
   "outputs": [
    {
     "name": "stdout",
     "output_type": "stream",
     "text": [
      "((7751, 96, 1), (7751, 4, 1), (1938, 96, 1), (1938, 4, 1))\n"
     ]
    }
   ],
   "source": [
    "# split into input and outputs\n",
    "n_obs = n_lag * n_features\n",
    "\n",
    "# We're only concerned with the estimating the close value,\n",
    "# Close should be first in the list of column in the config file\n",
    "\n",
    "n_outputs = n_out * n_features\n",
    "train_x, train_y = train[:, :n_obs], train[:, -n_out:]\n",
    "test_x, test_y = test[:, :n_obs], test[:, -n_out:]\n",
    "\n",
    "# reshape input to be 3D [samples, timesteps, features]\n",
    "train_x = train_x.reshape((train_x.shape[0], n_lag, n_features))\n",
    "test_x = test_x.reshape((test_x.shape[0], n_lag, n_features))\n",
    "\n",
    "# reshape output to be 3D [samples, timesteps, features]\n",
    "train_y = train_y.reshape(-1, n_out, 1)\n",
    "test_y = test_y.reshape(-1, n_out, 1)\n",
    "\n",
    "print(train_x.shape, train_y.shape, test_x.shape, test_y.shape)"
   ]
  },
  {
   "cell_type": "code",
   "execution_count": 29,
   "metadata": {},
   "outputs": [],
   "source": [
    "model_name=\"model.json\"\n",
    "model_weights_name=\"weights.h5\""
   ]
  },
  {
   "cell_type": "code",
   "execution_count": 30,
   "metadata": {},
   "outputs": [
    {
     "name": "stdout",
     "output_type": "stream",
     "text": [
      "_________________________________________________________________\n",
      "Layer (type)                 Output Shape              Param #   \n",
      "=================================================================\n",
      "bidirectional_3 (Bidirection (None, 100)               20800     \n",
      "_________________________________________________________________\n",
      "dropout_5 (Dropout)          (None, 100)               0         \n",
      "_________________________________________________________________\n",
      "repeat_vector_3 (RepeatVecto (None, 4, 100)            0         \n",
      "_________________________________________________________________\n",
      "lstm_6 (LSTM)                (None, 4, 25)             12600     \n",
      "_________________________________________________________________\n",
      "dropout_6 (Dropout)          (None, 4, 25)             0         \n",
      "_________________________________________________________________\n",
      "time_distributed_2 (TimeDist (None, 4, 1)              26        \n",
      "=================================================================\n",
      "Total params: 33,426\n",
      "Trainable params: 33,426\n",
      "Non-trainable params: 0\n",
      "_________________________________________________________________\n"
     ]
    }
   ],
   "source": [
    "from keras.models import Sequential\n",
    "from keras.layers import Dense\n",
    "from keras.layers import Input\n",
    "from keras.layers import LSTM, CuDNNLSTM, GRU,CuDNNGRU\n",
    "from keras.layers import Conv1D, AveragePooling1D, MaxPooling1D\n",
    "from keras.layers import Dropout, Flatten\n",
    "from keras.layers import Activation, BatchNormalization\n",
    "from keras.layers import TimeDistributed\n",
    "from keras.layers import Bidirectional\n",
    "from keras.layers import RepeatVector\n",
    "from keras.callbacks import ModelCheckpoint\n",
    "\n",
    "units= CONFIG['lstm_hidden_size']\n",
    "dropout = .1\n",
    "\n",
    "# design network\n",
    "model = Sequential()\n",
    "model.add(Bidirectional(LSTM(units), input_shape=(train_x.shape[1], train_x.shape[2])))\n",
    "model.add(Dropout(dropout))\n",
    "\n",
    "model.add(RepeatVector(n_out))\n",
    "\n",
    "model.add(LSTM(units/2, return_sequences=True))\n",
    "model.add(Dropout(dropout))\n",
    "\n",
    "# We're only concerned with the estimating the close value,\n",
    "# otherwise use n_outputs instead of 1\n",
    "# Dense(n_outputs, ...\n",
    "model.add(TimeDistributed(Dense(1, activation='relu')))\n",
    "\n",
    "model.compile(loss='mse', optimizer='adam')\n",
    "\n",
    "# store model\n",
    "# serialize model to JSON\n",
    "model_json = model.to_json()\n",
    "with open(model_name, \"w\") as json_file:\n",
    "    json_file.write(model_json)\n",
    "\n",
    "model.summary()"
   ]
  },
  {
   "cell_type": "code",
   "execution_count": 31,
   "metadata": {},
   "outputs": [],
   "source": [
    "epochs=100\n",
    "batch_size=512"
   ]
  },
  {
   "cell_type": "code",
   "execution_count": 32,
   "metadata": {},
   "outputs": [
    {
     "name": "stdout",
     "output_type": "stream",
     "text": [
      "Train on 7751 samples, validate on 1938 samples\n",
      "Epoch 1/100\n",
      "7751/7751 [==============================] - 13s 2ms/step - loss: 0.0116 - val_loss: 0.0129\n",
      "\n",
      "Epoch 00001: val_loss improved from inf to 0.01292, saving model to weights.h5\n",
      "Epoch 2/100\n",
      "7751/7751 [==============================] - 9s 1ms/step - loss: 0.0087 - val_loss: 0.0110\n",
      "\n",
      "Epoch 00002: val_loss improved from 0.01292 to 0.01097, saving model to weights.h5\n",
      "Epoch 3/100\n",
      "7751/7751 [==============================] - 9s 1ms/step - loss: 0.0075 - val_loss: 0.0096\n",
      "\n",
      "Epoch 00003: val_loss improved from 0.01097 to 0.00957, saving model to weights.h5\n",
      "Epoch 4/100\n",
      "7751/7751 [==============================] - 10s 1ms/step - loss: 0.0064 - val_loss: 0.0089\n",
      "\n",
      "Epoch 00004: val_loss improved from 0.00957 to 0.00887, saving model to weights.h5\n",
      "Epoch 5/100\n",
      "7751/7751 [==============================] - 10s 1ms/step - loss: 0.0058 - val_loss: 0.0081\n",
      "\n",
      "Epoch 00005: val_loss improved from 0.00887 to 0.00807, saving model to weights.h5\n",
      "Epoch 6/100\n",
      "7751/7751 [==============================] - 10s 1ms/step - loss: 0.0055 - val_loss: 0.0075\n",
      "\n",
      "Epoch 00006: val_loss improved from 0.00807 to 0.00751, saving model to weights.h5\n",
      "Epoch 7/100\n",
      "7751/7751 [==============================] - 16s 2ms/step - loss: 0.0054 - val_loss: 0.0073\n",
      "\n",
      "Epoch 00007: val_loss improved from 0.00751 to 0.00734, saving model to weights.h5\n",
      "Epoch 8/100\n",
      "7751/7751 [==============================] - 12s 2ms/step - loss: 0.0052 - val_loss: 0.0072\n",
      "\n",
      "Epoch 00008: val_loss improved from 0.00734 to 0.00721, saving model to weights.h5\n",
      "Epoch 9/100\n",
      "7751/7751 [==============================] - 11s 1ms/step - loss: 0.0052 - val_loss: 0.0071\n",
      "\n",
      "Epoch 00009: val_loss improved from 0.00721 to 0.00711, saving model to weights.h5\n",
      "Epoch 10/100\n",
      "7751/7751 [==============================] - 13s 2ms/step - loss: 0.0051 - val_loss: 0.0070\n",
      "\n",
      "Epoch 00010: val_loss improved from 0.00711 to 0.00697, saving model to weights.h5\n",
      "Epoch 11/100\n",
      "7751/7751 [==============================] - 10s 1ms/step - loss: 0.0050 - val_loss: 0.0068\n",
      "\n",
      "Epoch 00011: val_loss improved from 0.00697 to 0.00682, saving model to weights.h5\n",
      "Epoch 12/100\n",
      "7751/7751 [==============================] - 10s 1ms/step - loss: 0.0049 - val_loss: 0.0067\n",
      "\n",
      "Epoch 00012: val_loss improved from 0.00682 to 0.00672, saving model to weights.h5\n",
      "Epoch 13/100\n",
      "7751/7751 [==============================] - 11s 1ms/step - loss: 0.0048 - val_loss: 0.0066\n",
      "\n",
      "Epoch 00013: val_loss improved from 0.00672 to 0.00663, saving model to weights.h5\n",
      "Epoch 14/100\n",
      "7751/7751 [==============================] - 12s 2ms/step - loss: 0.0047 - val_loss: 0.0065\n",
      "\n",
      "Epoch 00014: val_loss improved from 0.00663 to 0.00655, saving model to weights.h5\n",
      "Epoch 15/100\n",
      "7751/7751 [==============================] - 10s 1ms/step - loss: 0.0047 - val_loss: 0.0065\n",
      "\n",
      "Epoch 00015: val_loss improved from 0.00655 to 0.00647, saving model to weights.h5\n",
      "Epoch 16/100\n",
      "7751/7751 [==============================] - 11s 1ms/step - loss: 0.0047 - val_loss: 0.0064\n",
      "\n",
      "Epoch 00016: val_loss improved from 0.00647 to 0.00642, saving model to weights.h5\n",
      "Epoch 17/100\n",
      "7751/7751 [==============================] - 13s 2ms/step - loss: 0.0046 - val_loss: 0.0064\n",
      "\n",
      "Epoch 00017: val_loss improved from 0.00642 to 0.00637, saving model to weights.h5\n",
      "Epoch 18/100\n",
      "7751/7751 [==============================] - 10s 1ms/step - loss: 0.0046 - val_loss: 0.0063\n",
      "\n",
      "Epoch 00018: val_loss improved from 0.00637 to 0.00632, saving model to weights.h5\n",
      "Epoch 19/100\n",
      "7751/7751 [==============================] - 9s 1ms/step - loss: 0.0046 - val_loss: 0.0063\n",
      "\n",
      "Epoch 00019: val_loss improved from 0.00632 to 0.00627, saving model to weights.h5\n",
      "Epoch 20/100\n",
      "7751/7751 [==============================] - 9s 1ms/step - loss: 0.0045 - val_loss: 0.0062\n",
      "\n",
      "Epoch 00020: val_loss improved from 0.00627 to 0.00622, saving model to weights.h5\n",
      "Epoch 21/100\n",
      "7751/7751 [==============================] - 9s 1ms/step - loss: 0.0046 - val_loss: 0.0062\n",
      "\n",
      "Epoch 00021: val_loss improved from 0.00622 to 0.00619, saving model to weights.h5\n",
      "Epoch 22/100\n",
      "7751/7751 [==============================] - 11s 1ms/step - loss: 0.0045 - val_loss: 0.0062\n",
      "\n",
      "Epoch 00022: val_loss improved from 0.00619 to 0.00616, saving model to weights.h5\n",
      "Epoch 23/100\n",
      "7751/7751 [==============================] - 9s 1ms/step - loss: 0.0045 - val_loss: 0.0061\n",
      "\n",
      "Epoch 00023: val_loss improved from 0.00616 to 0.00611, saving model to weights.h5\n",
      "Epoch 24/100\n",
      "7751/7751 [==============================] - 9s 1ms/step - loss: 0.0045 - val_loss: 0.0061\n",
      "\n",
      "Epoch 00024: val_loss improved from 0.00611 to 0.00609, saving model to weights.h5\n",
      "Epoch 25/100\n",
      "7751/7751 [==============================] - 9s 1ms/step - loss: 0.0045 - val_loss: 0.0060\n",
      "\n",
      "Epoch 00025: val_loss improved from 0.00609 to 0.00603, saving model to weights.h5\n",
      "Epoch 26/100\n",
      "7751/7751 [==============================] - 9s 1ms/step - loss: 0.0044 - val_loss: 0.0060\n",
      "\n",
      "Epoch 00026: val_loss improved from 0.00603 to 0.00599, saving model to weights.h5\n",
      "Epoch 27/100\n",
      "7751/7751 [==============================] - 9s 1ms/step - loss: 0.0044 - val_loss: 0.0060\n",
      "\n",
      "Epoch 00027: val_loss improved from 0.00599 to 0.00595, saving model to weights.h5\n",
      "Epoch 28/100\n",
      "7751/7751 [==============================] - 9s 1ms/step - loss: 0.0044 - val_loss: 0.0059\n",
      "\n",
      "Epoch 00028: val_loss improved from 0.00595 to 0.00590, saving model to weights.h5\n",
      "Epoch 29/100\n",
      "7751/7751 [==============================] - 9s 1ms/step - loss: 0.0043 - val_loss: 0.0059\n",
      "\n",
      "Epoch 00029: val_loss improved from 0.00590 to 0.00586, saving model to weights.h5\n",
      "Epoch 30/100\n",
      "7751/7751 [==============================] - 9s 1ms/step - loss: 0.0043 - val_loss: 0.0058\n",
      "\n",
      "Epoch 00030: val_loss improved from 0.00586 to 0.00582, saving model to weights.h5\n",
      "Epoch 31/100\n",
      "7751/7751 [==============================] - 9s 1ms/step - loss: 0.0043 - val_loss: 0.0058\n",
      "\n",
      "Epoch 00031: val_loss improved from 0.00582 to 0.00578, saving model to weights.h5\n",
      "Epoch 32/100\n",
      "7751/7751 [==============================] - 9s 1ms/step - loss: 0.0042 - val_loss: 0.0057\n",
      "\n",
      "Epoch 00032: val_loss improved from 0.00578 to 0.00571, saving model to weights.h5\n",
      "Epoch 33/100\n",
      "7751/7751 [==============================] - 9s 1ms/step - loss: 0.0043 - val_loss: 0.0057\n",
      "\n",
      "Epoch 00033: val_loss did not improve from 0.00571\n",
      "Epoch 34/100\n",
      "7751/7751 [==============================] - 9s 1ms/step - loss: 0.0042 - val_loss: 0.0057\n",
      "\n",
      "Epoch 00034: val_loss improved from 0.00571 to 0.00567, saving model to weights.h5\n",
      "Epoch 35/100\n",
      "7751/7751 [==============================] - 9s 1ms/step - loss: 0.0042 - val_loss: 0.0056\n",
      "\n",
      "Epoch 00035: val_loss improved from 0.00567 to 0.00563, saving model to weights.h5\n",
      "Epoch 36/100\n",
      "7751/7751 [==============================] - 9s 1ms/step - loss: 0.0042 - val_loss: 0.0056\n",
      "\n",
      "Epoch 00036: val_loss improved from 0.00563 to 0.00563, saving model to weights.h5\n",
      "Epoch 37/100\n",
      "7751/7751 [==============================] - 9s 1ms/step - loss: 0.0042 - val_loss: 0.0056\n",
      "\n",
      "Epoch 00037: val_loss improved from 0.00563 to 0.00562, saving model to weights.h5\n",
      "Epoch 38/100\n",
      "7751/7751 [==============================] - 9s 1ms/step - loss: 0.0041 - val_loss: 0.0055\n",
      "\n",
      "Epoch 00038: val_loss improved from 0.00562 to 0.00555, saving model to weights.h5\n",
      "Epoch 39/100\n",
      "7751/7751 [==============================] - 9s 1ms/step - loss: 0.0042 - val_loss: 0.0058\n",
      "\n",
      "Epoch 00039: val_loss did not improve from 0.00555\n",
      "Epoch 40/100\n",
      "7751/7751 [==============================] - 9s 1ms/step - loss: 0.0041 - val_loss: 0.0057\n",
      "\n",
      "Epoch 00040: val_loss did not improve from 0.00555\n",
      "Epoch 41/100\n",
      "7751/7751 [==============================] - 9s 1ms/step - loss: 0.0042 - val_loss: 0.0058\n",
      "\n",
      "Epoch 00041: val_loss did not improve from 0.00555\n",
      "Epoch 42/100\n",
      "7751/7751 [==============================] - 9s 1ms/step - loss: 0.0041 - val_loss: 0.0057\n",
      "\n",
      "Epoch 00042: val_loss did not improve from 0.00555\n",
      "Epoch 43/100\n",
      "7751/7751 [==============================] - 9s 1ms/step - loss: 0.0041 - val_loss: 0.0056\n",
      "\n",
      "Epoch 00043: val_loss did not improve from 0.00555\n",
      "Epoch 44/100\n",
      "7751/7751 [==============================] - 9s 1ms/step - loss: 0.0040 - val_loss: 0.0056\n",
      "\n",
      "Epoch 00044: val_loss did not improve from 0.00555\n",
      "Epoch 45/100\n",
      "7751/7751 [==============================] - 9s 1ms/step - loss: 0.0039 - val_loss: 0.0055\n"
     ]
    },
    {
     "name": "stdout",
     "output_type": "stream",
     "text": [
      "\n",
      "Epoch 00045: val_loss improved from 0.00555 to 0.00554, saving model to weights.h5\n",
      "Epoch 46/100\n",
      "7751/7751 [==============================] - 9s 1ms/step - loss: 0.0040 - val_loss: 0.0057\n",
      "\n",
      "Epoch 00046: val_loss did not improve from 0.00554\n",
      "Epoch 47/100\n",
      "7751/7751 [==============================] - 9s 1ms/step - loss: 0.0039 - val_loss: 0.0056\n",
      "\n",
      "Epoch 00047: val_loss did not improve from 0.00554\n",
      "Epoch 48/100\n",
      "7751/7751 [==============================] - 9s 1ms/step - loss: 0.0040 - val_loss: 0.0057\n",
      "\n",
      "Epoch 00048: val_loss did not improve from 0.00554\n",
      "Epoch 49/100\n",
      "7751/7751 [==============================] - 9s 1ms/step - loss: 0.0039 - val_loss: 0.0056\n",
      "\n",
      "Epoch 00049: val_loss did not improve from 0.00554\n",
      "Epoch 50/100\n",
      "7751/7751 [==============================] - 9s 1ms/step - loss: 0.0040 - val_loss: 0.0057\n",
      "\n",
      "Epoch 00050: val_loss did not improve from 0.00554\n",
      "Epoch 51/100\n",
      "7751/7751 [==============================] - 9s 1ms/step - loss: 0.0039 - val_loss: 0.0055\n",
      "\n",
      "Epoch 00051: val_loss improved from 0.00554 to 0.00551, saving model to weights.h5\n",
      "Epoch 52/100\n",
      "7751/7751 [==============================] - 9s 1ms/step - loss: 0.0039 - val_loss: 0.0056\n",
      "\n",
      "Epoch 00052: val_loss did not improve from 0.00551\n",
      "Epoch 53/100\n",
      "7751/7751 [==============================] - 11s 1ms/step - loss: 0.0039 - val_loss: 0.0056\n",
      "\n",
      "Epoch 00053: val_loss did not improve from 0.00551\n",
      "Epoch 54/100\n",
      "7751/7751 [==============================] - 9s 1ms/step - loss: 0.0039 - val_loss: 0.0056\n",
      "\n",
      "Epoch 00054: val_loss did not improve from 0.00551\n",
      "Epoch 55/100\n",
      "7751/7751 [==============================] - 9s 1ms/step - loss: 0.0038 - val_loss: 0.0056\n",
      "\n",
      "Epoch 00055: val_loss did not improve from 0.00551\n",
      "Epoch 56/100\n",
      "7751/7751 [==============================] - 9s 1ms/step - loss: 0.0039 - val_loss: 0.0056\n",
      "\n",
      "Epoch 00056: val_loss did not improve from 0.00551\n",
      "Epoch 57/100\n",
      "7751/7751 [==============================] - 9s 1ms/step - loss: 0.0038 - val_loss: 0.0056\n",
      "\n",
      "Epoch 00057: val_loss did not improve from 0.00551\n",
      "Epoch 58/100\n",
      "7751/7751 [==============================] - 9s 1ms/step - loss: 0.0039 - val_loss: 0.0056\n",
      "\n",
      "Epoch 00058: val_loss did not improve from 0.00551\n",
      "Epoch 59/100\n",
      "7751/7751 [==============================] - 13s 2ms/step - loss: 0.0039 - val_loss: 0.0057\n",
      "\n",
      "Epoch 00059: val_loss did not improve from 0.00551\n",
      "Epoch 60/100\n",
      "7751/7751 [==============================] - 9s 1ms/step - loss: 0.0038 - val_loss: 0.0056\n",
      "\n",
      "Epoch 00060: val_loss did not improve from 0.00551\n",
      "Epoch 61/100\n",
      "7751/7751 [==============================] - 9s 1ms/step - loss: 0.0038 - val_loss: 0.0057\n",
      "\n",
      "Epoch 00061: val_loss did not improve from 0.00551\n",
      "Epoch 62/100\n",
      "7751/7751 [==============================] - 9s 1ms/step - loss: 0.0038 - val_loss: 0.0056\n",
      "\n",
      "Epoch 00062: val_loss did not improve from 0.00551\n",
      "Epoch 63/100\n",
      "7751/7751 [==============================] - 9s 1ms/step - loss: 0.0038 - val_loss: 0.0056\n",
      "\n",
      "Epoch 00063: val_loss did not improve from 0.00551\n",
      "Epoch 64/100\n",
      "7751/7751 [==============================] - 9s 1ms/step - loss: 0.0038 - val_loss: 0.0057\n",
      "\n",
      "Epoch 00064: val_loss did not improve from 0.00551\n",
      "Epoch 65/100\n",
      "7751/7751 [==============================] - 9s 1ms/step - loss: 0.0038 - val_loss: 0.0056\n",
      "\n",
      "Epoch 00065: val_loss did not improve from 0.00551\n",
      "Epoch 66/100\n",
      "7751/7751 [==============================] - 9s 1ms/step - loss: 0.0038 - val_loss: 0.0057\n",
      "\n",
      "Epoch 00066: val_loss did not improve from 0.00551\n",
      "Epoch 67/100\n",
      "7751/7751 [==============================] - 9s 1ms/step - loss: 0.0038 - val_loss: 0.0056\n",
      "\n",
      "Epoch 00067: val_loss did not improve from 0.00551\n",
      "Epoch 68/100\n",
      "7751/7751 [==============================] - 9s 1ms/step - loss: 0.0038 - val_loss: 0.0056\n",
      "\n",
      "Epoch 00068: val_loss did not improve from 0.00551\n",
      "Epoch 69/100\n",
      "7751/7751 [==============================] - 9s 1ms/step - loss: 0.0038 - val_loss: 0.0056\n",
      "\n",
      "Epoch 00069: val_loss did not improve from 0.00551\n",
      "Epoch 70/100\n",
      "7751/7751 [==============================] - 9s 1ms/step - loss: 0.0038 - val_loss: 0.0057\n",
      "\n",
      "Epoch 00070: val_loss did not improve from 0.00551\n",
      "Epoch 71/100\n",
      "7751/7751 [==============================] - 9s 1ms/step - loss: 0.0037 - val_loss: 0.0057\n",
      "\n",
      "Epoch 00071: val_loss did not improve from 0.00551\n",
      "Epoch 72/100\n",
      "7751/7751 [==============================] - 9s 1ms/step - loss: 0.0037 - val_loss: 0.0056\n",
      "\n",
      "Epoch 00072: val_loss did not improve from 0.00551\n",
      "Epoch 73/100\n",
      "7751/7751 [==============================] - 9s 1ms/step - loss: 0.0038 - val_loss: 0.0057\n",
      "\n",
      "Epoch 00073: val_loss did not improve from 0.00551\n",
      "Epoch 74/100\n",
      "7751/7751 [==============================] - 9s 1ms/step - loss: 0.0037 - val_loss: 0.0056\n",
      "\n",
      "Epoch 00074: val_loss did not improve from 0.00551\n",
      "Epoch 75/100\n",
      "7751/7751 [==============================] - 9s 1ms/step - loss: 0.0038 - val_loss: 0.0057\n",
      "\n",
      "Epoch 00075: val_loss did not improve from 0.00551\n",
      "Epoch 76/100\n",
      "7751/7751 [==============================] - 9s 1ms/step - loss: 0.0037 - val_loss: 0.0056\n",
      "\n",
      "Epoch 00076: val_loss did not improve from 0.00551\n",
      "Epoch 77/100\n",
      "7751/7751 [==============================] - 9s 1ms/step - loss: 0.0037 - val_loss: 0.0056\n",
      "\n",
      "Epoch 00077: val_loss did not improve from 0.00551\n",
      "Epoch 78/100\n",
      "7751/7751 [==============================] - 9s 1ms/step - loss: 0.0037 - val_loss: 0.0056\n",
      "\n",
      "Epoch 00078: val_loss did not improve from 0.00551\n",
      "Epoch 79/100\n",
      "7751/7751 [==============================] - 9s 1ms/step - loss: 0.0037 - val_loss: 0.0057\n",
      "\n",
      "Epoch 00079: val_loss did not improve from 0.00551\n",
      "Epoch 80/100\n",
      "7751/7751 [==============================] - 9s 1ms/step - loss: 0.0037 - val_loss: 0.0056\n",
      "\n",
      "Epoch 00080: val_loss did not improve from 0.00551\n",
      "Epoch 81/100\n",
      "7751/7751 [==============================] - 9s 1ms/step - loss: 0.0037 - val_loss: 0.0058\n",
      "\n",
      "Epoch 00081: val_loss did not improve from 0.00551\n",
      "Epoch 82/100\n",
      "7751/7751 [==============================] - 9s 1ms/step - loss: 0.0037 - val_loss: 0.0058\n",
      "\n",
      "Epoch 00082: val_loss did not improve from 0.00551\n",
      "Epoch 83/100\n",
      "7751/7751 [==============================] - 9s 1ms/step - loss: 0.0037 - val_loss: 0.0057\n",
      "\n",
      "Epoch 00083: val_loss did not improve from 0.00551\n",
      "Epoch 84/100\n",
      "7751/7751 [==============================] - 9s 1ms/step - loss: 0.0037 - val_loss: 0.0057\n",
      "\n",
      "Epoch 00084: val_loss did not improve from 0.00551\n",
      "Epoch 85/100\n",
      "7751/7751 [==============================] - 9s 1ms/step - loss: 0.0036 - val_loss: 0.0057\n",
      "\n",
      "Epoch 00085: val_loss did not improve from 0.00551\n",
      "Epoch 86/100\n",
      "7751/7751 [==============================] - 9s 1ms/step - loss: 0.0037 - val_loss: 0.0056\n",
      "\n",
      "Epoch 00086: val_loss did not improve from 0.00551\n",
      "Epoch 87/100\n",
      "7751/7751 [==============================] - 9s 1ms/step - loss: 0.0036 - val_loss: 0.0056\n",
      "\n",
      "Epoch 00087: val_loss did not improve from 0.00551\n",
      "Epoch 88/100\n",
      "7751/7751 [==============================] - 9s 1ms/step - loss: 0.0036 - val_loss: 0.0057\n",
      "\n",
      "Epoch 00088: val_loss did not improve from 0.00551\n",
      "Epoch 89/100\n",
      "7751/7751 [==============================] - 9s 1ms/step - loss: 0.0036 - val_loss: 0.0057\n",
      "\n",
      "Epoch 00089: val_loss did not improve from 0.00551\n",
      "Epoch 90/100\n",
      "7751/7751 [==============================] - 9s 1ms/step - loss: 0.0036 - val_loss: 0.0058\n",
      "\n",
      "Epoch 00090: val_loss did not improve from 0.00551\n",
      "Epoch 91/100\n",
      "7751/7751 [==============================] - 9s 1ms/step - loss: 0.0036 - val_loss: 0.0057\n",
      "\n",
      "Epoch 00091: val_loss did not improve from 0.00551\n",
      "Epoch 92/100\n",
      "7751/7751 [==============================] - 9s 1ms/step - loss: 0.0036 - val_loss: 0.0058\n",
      "\n",
      "Epoch 00092: val_loss did not improve from 0.00551\n",
      "Epoch 93/100\n",
      "7751/7751 [==============================] - 9s 1ms/step - loss: 0.0036 - val_loss: 0.0056\n",
      "\n",
      "Epoch 00093: val_loss did not improve from 0.00551\n",
      "Epoch 94/100\n",
      "7751/7751 [==============================] - 9s 1ms/step - loss: 0.0036 - val_loss: 0.0057\n",
      "\n",
      "Epoch 00094: val_loss did not improve from 0.00551\n",
      "Epoch 95/100\n",
      "7751/7751 [==============================] - 9s 1ms/step - loss: 0.0036 - val_loss: 0.0058\n",
      "\n",
      "Epoch 00095: val_loss did not improve from 0.00551\n",
      "Epoch 96/100\n",
      "7751/7751 [==============================] - 9s 1ms/step - loss: 0.0035 - val_loss: 0.0058\n",
      "\n",
      "Epoch 00096: val_loss did not improve from 0.00551\n",
      "Epoch 97/100\n",
      "7751/7751 [==============================] - 9s 1ms/step - loss: 0.0036 - val_loss: 0.0056\n",
      "\n",
      "Epoch 00097: val_loss did not improve from 0.00551\n",
      "Epoch 98/100\n"
     ]
    },
    {
     "name": "stdout",
     "output_type": "stream",
     "text": [
      "7751/7751 [==============================] - 9s 1ms/step - loss: 0.0036 - val_loss: 0.0056\n",
      "\n",
      "Epoch 00098: val_loss did not improve from 0.00551\n",
      "Epoch 99/100\n",
      "7751/7751 [==============================] - 9s 1ms/step - loss: 0.0036 - val_loss: 0.0056\n",
      "\n",
      "Epoch 00099: val_loss did not improve from 0.00551\n",
      "Epoch 100/100\n",
      "7751/7751 [==============================] - 9s 1ms/step - loss: 0.0035 - val_loss: 0.0057\n",
      "\n",
      "Epoch 00100: val_loss did not improve from 0.00551\n"
     ]
    }
   ],
   "source": [
    "# fit network\n",
    "history = model.fit(train_x, train_y, epochs=epochs, batch_size=batch_size,\n",
    "                    validation_data=(test_x, test_y), verbose=1, shuffle=False,\n",
    "                    callbacks=[ModelCheckpoint(model_weights_name, monitor='val_loss', verbose=1,save_best_only='true',\n",
    "                                              save_weights_only=True)])"
   ]
  },
  {
   "cell_type": "code",
   "execution_count": 33,
   "metadata": {},
   "outputs": [
    {
     "name": "stdout",
     "output_type": "stream",
     "text": [
      "1938/1938 [==============================] - 2s 872us/step\n"
     ]
    },
    {
     "data": {
      "text/plain": [
       "0.005513833901317266"
      ]
     },
     "execution_count": 33,
     "metadata": {},
     "output_type": "execute_result"
    }
   ],
   "source": [
    "# Load the best weights\n",
    "model.load_weights(model_weights_name)\n",
    "model.compile(loss='mse', optimizer='adam')\n",
    "model.evaluate(test_x, test_y)"
   ]
  },
  {
   "cell_type": "code",
   "execution_count": 36,
   "metadata": {},
   "outputs": [
    {
     "data": {
      "image/png": "[encoded data removed]",
      "text/plain": [
       "<Figure size 432x288 with 1 Axes>"
      ]
     },
     "metadata": {},
     "output_type": "display_data"
    }
   ],
   "source": [
    "# plot history\n",
    "pyplot.plot(history.history['loss'], label='train')\n",
    "pyplot.plot(history.history['val_loss'], label='test')\n",
    "pyplot.legend()\n",
    "pyplot.show()"
   ]
  },
  {
   "cell_type": "code",
   "execution_count": 37,
   "metadata": {},
   "outputs": [],
   "source": [
    "# Test the prediction of test data\n",
    "y = model.predict(test_x)"
   ]
  },
  {
   "cell_type": "code",
   "execution_count": 38,
   "metadata": {},
   "outputs": [
    {
     "data": {
      "image/png": "[encoded data removed]",
      "text/plain": [
       "<Figure size 432x288 with 1 Axes>"
      ]
     },
     "metadata": {},
     "output_type": "display_data"
    },
    {
     "data": {
      "image/png": "[encoded data removed]",
      "text/plain": [
       "<Figure size 432x288 with 1 Axes>"
      ]
     },
     "metadata": {},
     "output_type": "display_data"
    }
   ],
   "source": [
    "a = test_y[:,0]\n",
    "b = y[:,0]\n",
    "c = np.append(b, y[-1], axis=0)\n",
    "\n",
    "# Show how the model fits the test data\n",
    "pyplot.plot(a[:100], label='original')\n",
    "pyplot.plot(b[:100], label='model')\n",
    "pyplot.legend()\n",
    "pyplot.show()\n",
    "\n",
    "# Show how the model predicts data\n",
    "pos = int(a.shape[0]-n_out*4)\n",
    "pyplot.plot(a[pos:], label='original')\n",
    "pyplot.plot(c[pos:], label='model')\n",
    "pyplot.legend()\n",
    "pyplot.show()\n"
   ]
  },
  {
   "cell_type": "code",
   "execution_count": null,
   "metadata": {},
   "outputs": [],
   "source": []
  },
  {
   "cell_type": "code",
   "execution_count": null,
   "metadata": {},
   "outputs": [],
   "source": []
  },
  {
   "cell_type": "code",
   "execution_count": null,
   "metadata": {},
   "outputs": [],
   "source": []
  },
  {
   "cell_type": "code",
   "execution_count": null,
   "metadata": {},
   "outputs": [],
   "source": []
  },
  {
   "cell_type": "code",
   "execution_count": null,
   "metadata": {},
   "outputs": [],
   "source": []
  },
  {
   "cell_type": "code",
   "execution_count": null,
   "metadata": {},
   "outputs": [],
   "source": []
  },
  {
   "cell_type": "code",
   "execution_count": null,
   "metadata": {},
   "outputs": [],
   "source": []
  },
  {
   "cell_type": "code",
   "execution_count": null,
   "metadata": {},
   "outputs": [],
   "source": []
  },
  {
   "cell_type": "code",
   "execution_count": null,
   "metadata": {},
   "outputs": [],
   "source": []
  },
  {
   "cell_type": "code",
   "execution_count": null,
   "metadata": {},
   "outputs": [],
   "source": []
  },
  {
   "cell_type": "code",
   "execution_count": null,
   "metadata": {},
   "outputs": [],
   "source": []
  },
  {
   "cell_type": "code",
   "execution_count": null,
   "metadata": {},
   "outputs": [],
   "source": []
  },
  {
   "cell_type": "code",
   "execution_count": null,
   "metadata": {},
   "outputs": [],
   "source": []
  },
  {
   "cell_type": "code",
   "execution_count": null,
   "metadata": {},
   "outputs": [],
   "source": []
  },
  {
   "cell_type": "code",
   "execution_count": null,
   "metadata": {},
   "outputs": [],
   "source": []
  },
  {
   "cell_type": "code",
   "execution_count": null,
   "metadata": {},
   "outputs": [],
   "source": []
  },
  {
   "cell_type": "code",
   "execution_count": null,
   "metadata": {},
   "outputs": [],
   "source": []
  },
  {
   "cell_type": "code",
   "execution_count": null,
   "metadata": {},
   "outputs": [],
   "source": []
  },
  {
   "cell_type": "code",
   "execution_count": null,
   "metadata": {},
   "outputs": [],
   "source": []
  }
 ],
 "metadata": {
  "kernelspec": {
   "display_name": "Python 2",
   "language": "python",
   "name": "python2"
  },
  "language_info": {
   "codemirror_mode": {
    "name": "ipython",
    "version": 2
   },
   "file_extension": ".py",
   "mimetype": "text/x-python",
   "name": "python",
   "nbconvert_exporter": "python",
   "pygments_lexer": "ipython2",
   "version": "2.7.12"
  }
 },
 "nbformat": 4,
 "nbformat_minor": 2
}
